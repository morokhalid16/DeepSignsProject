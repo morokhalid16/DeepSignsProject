{
  "nbformat": 4,
  "nbformat_minor": 0,
  "metadata": {
    "colab": {
      "name": "Gmm.ipynb",
      "provenance": [],
      "collapsed_sections": []
    },
    "kernelspec": {
      "name": "python3",
      "display_name": "Python 3"
    }
  },
  "cells": [
    {
      "cell_type": "code",
      "metadata": {
        "id": "bX7iCuQQVgIc"
      },
      "source": [
        "import numpy as np\n",
        "from scipy import linalg\n",
        "import matplotlib.pyplot as plt\n",
        "import matplotlib as mpl\n",
        "from sklearn import mixture\n",
        "from sklearn.metrics import log_loss"
      ],
      "execution_count": null,
      "outputs": []
    },
    {
      "cell_type": "code",
      "metadata": {
        "id": "vkdAPJtxkSo9"
      },
      "source": [
        "\n",
        "import torch \n",
        "import torch.nn as nn\n",
        "import torch.nn.functional as F \n",
        "from torch.utils.data import DataLoader\n",
        "from torchvision import datasets, transforms\n",
        "from torchvision.utils import make_grid\n"
      ],
      "execution_count": null,
      "outputs": []
    },
    {
      "cell_type": "markdown",
      "metadata": {
        "id": "z_aZdEBMkbl0"
      },
      "source": [
        "**Load the CIFAR-10 dataset**"
      ]
    },
    {
      "cell_type": "code",
      "metadata": {
        "id": "ldIr1RKuka9V"
      },
      "source": [
        "transform = transforms.ToTensor()\n",
        "\n",
        "train_data = datasets.CIFAR10(root='../Data', train=True, download=True, transform= transform)\n",
        "test_data = datasets.CIFAR10(root='../Data', train=False, download=True, transform= transform)\n"
      ],
      "execution_count": null,
      "outputs": []
    },
    {
      "cell_type": "code",
      "metadata": {
        "colab": {
          "base_uri": "https://localhost:8080/"
        },
        "id": "unakQvhTmnbC",
        "outputId": "c61273d5-4313-4c39-a398-0f302930bf0e"
      },
      "source": [
        "train_data"
      ],
      "execution_count": null,
      "outputs": [
        {
          "output_type": "execute_result",
          "data": {
            "text/plain": [
              "Dataset CIFAR10\n",
              "    Number of datapoints: 50000\n",
              "    Root location: ../Data\n",
              "    Split: Train\n",
              "    StandardTransform\n",
              "Transform: ToTensor()"
            ]
          },
          "metadata": {
            "tags": []
          },
          "execution_count": 4
        }
      ]
    },
    {
      "cell_type": "markdown",
      "metadata": {
        "id": "f4DQ1kJ_kzpH"
      },
      "source": [
        "**Create loaders**"
      ]
    },
    {
      "cell_type": "code",
      "metadata": {
        "id": "ymKcj1vzk1cU"
      },
      "source": [
        "\n",
        "torch.manual_seed(101)\n",
        "train_loader = DataLoader(train_data, batch_size=10, shuffle=True)\n",
        "test_loader = DataLoader(test_data, batch_size=10, shuffle=False)"
      ],
      "execution_count": null,
      "outputs": []
    },
    {
      "cell_type": "markdown",
      "metadata": {
        "id": "cHiVcNyLOq0A"
      },
      "source": [
        "**Key Generation**\n",
        "\n"
      ]
    },
    {
      "cell_type": "code",
      "metadata": {
        "id": "K9AzeQLPVlQk"
      },
      "source": [
        "S=6  # Number of classes ( or Gaussians)\n",
        "s=2  # Number of selected Gaussians\n",
        "N=6  # Length of our key \n",
        "GMM_classes=np.arange(S)  #Set GMM classes from 0 to 5\n",
        "n_sampls=500\n",
        "M=20*20 # number of features \n",
        "#model gmm\n",
        "gmm = mixture.GaussianMixture(n_components=S)\n",
        "\n",
        "#Generate random sampls\n",
        "X=np.random.randn(n_sampls,M)\n",
        "#fit the model\n",
        "gmm.fit(X)\n",
        "\n",
        "#Select s random indices from 1 to S \n",
        "def Select_Gaussian_Classes(GMM_classes,s):\n",
        "  GMM_classes=np.arange(S) \n",
        "  T=np.random.choice(GMM_classes,size=s,replace=False)\n",
        "  return T\n",
        "\n",
        "\n",
        "def subset_training_Data(T,X_train,Y_train):\n",
        "  Y_pred=gmm.predict(X_train)\n",
        "  indice=np.vstack([np.argwhere(Y_pred==t) for t in T]).flatten()\n",
        "  nsampls=int(len(X_train)/100)\n",
        "  key_index=np.random.choice(indice,size=nsampls,replace=False)\n",
        "  X_key,Y_key=X_train[key_index], Y_train[key_index]\n",
        "  return key_index,X_key,Y_key\n",
        "\n",
        "\n",
        "def generate_secrect_matrix(M,N):\n",
        "  return np.random.randn(M,N)\n",
        "\n",
        "def sigmoid(x):\n",
        "  return 1/(1+np.exp(-x))\n",
        "\n",
        "def Hard_Th(G):\n",
        "  return (G>0.5 )*1\n",
        "\n",
        "\n",
        "Y=gmm.predict(X)\n",
        "T=Select_Gaussian_Classes(GMM_classes,s)\n",
        "key_index,X_key,Y_key=subset_training_Data(T,X,Y)\n"
      ],
      "execution_count": null,
      "outputs": []
    },
    {
      "cell_type": "code",
      "metadata": {
        "colab": {
          "base_uri": "https://localhost:8080/"
        },
        "id": "tA-NacapPJE-",
        "outputId": "ea91f65e-f9dd-40d2-aa83-a28e4772d308"
      },
      "source": [
        "#Key generation algorithm\n",
        "A=generate_secrect_matrix(M,N)\n",
        "mu=gmm.means_         # means of selected Gaussians\n",
        "G=sigmoid(np.dot(mu,A))\n",
        "b_model=Hard_Th(G)\n",
        "b_model       #The key generated"
      ],
      "execution_count": null,
      "outputs": [
        {
          "output_type": "execute_result",
          "data": {
            "text/plain": [
              "array([[1, 1, 0, 0, 0, 1],\n",
              "       [1, 0, 1, 1, 0, 0],\n",
              "       [0, 0, 1, 1, 0, 0],\n",
              "       [1, 1, 1, 1, 0, 0],\n",
              "       [0, 1, 0, 1, 1, 1],\n",
              "       [0, 1, 0, 0, 0, 1]])"
            ]
          },
          "metadata": {
            "tags": []
          },
          "execution_count": 16
        }
      ]
    },
    {
      "cell_type": "markdown",
      "metadata": {
        "id": "Mak0uiIiPiYy"
      },
      "source": [
        "**Fine-Tuning**"
      ]
    },
    {
      "cell_type": "code",
      "metadata": {
        "id": "OVW5_JxfPpIq"
      },
      "source": [
        "# Quadratic error\n",
        "def mse(X1,X2):\n",
        "  return ((X1-X2)**2).mean()\n",
        "\n",
        "\n",
        "\n",
        "#Computing loss1 \n",
        "\n",
        "def loss1(activation_map,mu,mu_T):\n",
        " T=Select_Gaussian_Classes(GMM_classes,s)\n",
        " T_=[i for i in range(S) if i not in T]\n",
        " loss_=np.array([mse(mu[i],mu[j]) for i in T for j in T_]).mean()\n",
        " return mse(activation_map,mu_T)-loss_\n"
      ],
      "execution_count": null,
      "outputs": []
    },
    {
      "cell_type": "code",
      "metadata": {
        "colab": {
          "base_uri": "https://localhost:8080/"
        },
        "id": "4suwNJCcprQp",
        "outputId": "cccd6410-1f71-41a3-8f8e-63affd0afdc9"
      },
      "source": [
        "mu_T=mu[Y][key_index]          # means of X_key\n",
        "activation=np.random.randn(mu_T.shape[0],mu_T.shape[1]) # Generate random activation \n",
        "loss1(activation,mu)                                    #Testing loss1"
      ],
      "execution_count": null,
      "outputs": [
        {
          "output_type": "execute_result",
          "data": {
            "text/plain": [
              "0.9168328304129281"
            ]
          },
          "metadata": {
            "tags": []
          },
          "execution_count": 34
        }
      ]
    },
    {
      "cell_type": "code",
      "metadata": {
        "id": "xu8CLt9v6iyb"
      },
      "source": [
        "# Computing loss2\n",
        "\n",
        "def loss2(b,G):\n",
        "  return log_loss(b,G)"
      ],
      "execution_count": null,
      "outputs": []
    },
    {
      "cell_type": "code",
      "metadata": {
        "colab": {
          "base_uri": "https://localhost:8080/"
        },
        "id": "Ikh5SwyQ5ZpM",
        "outputId": "590cbf6a-df19-460e-af50-a062a312db69"
      },
      "source": [
        "loss2(b_model,G)"
      ],
      "execution_count": null,
      "outputs": [
        {
          "output_type": "execute_result",
          "data": {
            "text/plain": [
              "3.8020090565821083"
            ]
          },
          "metadata": {
            "tags": []
          },
          "execution_count": 40
        }
      ]
    }
  ]
}