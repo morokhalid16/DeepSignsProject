{
 "cells": [
  {
   "cell_type": "markdown",
   "metadata": {},
   "source": [
    "# MNIST Code Along with MLP"
   ]
  },
  {
   "cell_type": "code",
   "execution_count": null,
   "metadata": {},
   "outputs": [],
   "source": []
  },
  {
   "cell_type": "code",
   "execution_count": null,
   "metadata": {},
   "outputs": [],
   "source": []
  },
  {
   "cell_type": "markdown",
   "metadata": {},
   "source": [
    "## Perform standard imports"
   ]
  },
  {
   "cell_type": "code",
   "execution_count": 1,
   "metadata": {},
   "outputs": [],
   "source": [
    "import torch \n",
    "import torch.nn as nn\n",
    "import torch.nn.functional as F \n",
    "from torch.utils.data import DataLoader\n",
    "from torchvision import datasets, transforms\n",
    "from torchvision.utils import make_grid\n",
    "\n",
    "import numpy as np\n",
    "import pandas as pd\n",
    "import matplotlib.pyplot as plt\n",
    "\n",
    "import seaborn as sn # for heatmaps \n",
    "from sklearn.metrics import confusion_matrix"
   ]
  },
  {
   "cell_type": "markdown",
   "metadata": {},
   "source": [
    "## Load the MNIST dataset"
   ]
  },
  {
   "cell_type": "code",
   "execution_count": 2,
   "metadata": {},
   "outputs": [],
   "source": [
    "transform = transforms.ToTensor()\n",
    "\n",
    "train_data = datasets.MNIST(root='../Data', train=True, download=True, transform= transform)\n",
    "test_data = datasets.MNIST(root='../Data', train=False, download=True, transform= transform)"
   ]
  },
  {
   "cell_type": "code",
   "execution_count": 3,
   "metadata": {},
   "outputs": [
    {
     "data": {
      "text/plain": [
       "Dataset MNIST\n",
       "    Number of datapoints: 60000\n",
       "    Split: train\n",
       "    Root Location: ../Data\n",
       "    Transforms (if any): ToTensor()\n",
       "    Target Transforms (if any): None"
      ]
     },
     "execution_count": 3,
     "metadata": {},
     "output_type": "execute_result"
    }
   ],
   "source": [
    "train_data"
   ]
  },
  {
   "cell_type": "code",
   "execution_count": 4,
   "metadata": {},
   "outputs": [
    {
     "data": {
      "text/plain": [
       "Dataset MNIST\n",
       "    Number of datapoints: 10000\n",
       "    Split: test\n",
       "    Root Location: ../Data\n",
       "    Transforms (if any): ToTensor()\n",
       "    Target Transforms (if any): None"
      ]
     },
     "execution_count": 4,
     "metadata": {},
     "output_type": "execute_result"
    }
   ],
   "source": [
    "test_data"
   ]
  },
  {
   "cell_type": "markdown",
   "metadata": {},
   "source": [
    "### Create loaders"
   ]
  },
  {
   "cell_type": "code",
   "execution_count": 5,
   "metadata": {},
   "outputs": [],
   "source": [
    "torch.manual_seed(101)\n",
    "\n",
    "train_loader = DataLoader(train_data, batch_size=10, shuffle=True)\n",
    "test_loader = DataLoader(test_data, batch_size=10, shuffle=False)"
   ]
  },
  {
   "cell_type": "markdown",
   "metadata": {},
   "source": [
    "## Define the model"
   ]
  },
  {
   "cell_type": "code",
   "execution_count": 6,
   "metadata": {},
   "outputs": [],
   "source": [
    "class Network(nn.Module):\n",
    "    \n",
    "    def __init__(self):\n",
    "        super().__init__()\n",
    "        self.fc1 = nn.Linear(784, 512)   \n",
    "        self.fc2 = nn.Linear(512, 10)\n",
    "\n",
    "    def forward(self, X):\n",
    "        X = X.view(-1,28*28)\n",
    "        X = F.relu(self.fc1(X))\n",
    "        X = self.fc2(X)       \n",
    "        return X"
   ]
  },
  {
   "cell_type": "code",
   "execution_count": 7,
   "metadata": {},
   "outputs": [
    {
     "data": {
      "text/plain": [
       "Network(\n",
       "  (fc1): Linear(in_features=784, out_features=512, bias=True)\n",
       "  (fc2): Linear(in_features=512, out_features=10, bias=True)\n",
       ")"
      ]
     },
     "execution_count": 7,
     "metadata": {},
     "output_type": "execute_result"
    }
   ],
   "source": [
    "torch.manual_seed(101)\n",
    "model = Network()\n",
    "model"
   ]
  },
  {
   "cell_type": "markdown",
   "metadata": {},
   "source": [
    "## Define loss function & optimizer"
   ]
  },
  {
   "cell_type": "code",
   "execution_count": 8,
   "metadata": {},
   "outputs": [],
   "source": [
    "criterion = nn.CrossEntropyLoss()\n",
    "optimizer = torch.optim.Adam(model.parameters(), lr=0.001)"
   ]
  },
  {
   "cell_type": "markdown",
   "metadata": {},
   "source": [
    "## Train the model"
   ]
  },
  {
   "cell_type": "code",
   "execution_count": 9,
   "metadata": {},
   "outputs": [
    {
     "name": "stdout",
     "output_type": "stream",
     "text": [
      "epoch:  0  batch:  600 [  6000/60000]  loss: 0.34199288  accuracy:  85.267%\n",
      "epoch:  0  batch: 1200 [ 12000/60000]  loss: 0.26979512  accuracy:  88.817%\n",
      "epoch:  0  batch: 1800 [ 18000/60000]  loss: 0.01980071  accuracy:  90.489%\n",
      "epoch:  0  batch: 2400 [ 24000/60000]  loss: 0.27065471  accuracy:  91.633%\n",
      "epoch:  0  batch: 3000 [ 30000/60000]  loss: 0.37326297  accuracy:  92.323%\n",
      "epoch:  0  batch: 3600 [ 36000/60000]  loss: 0.30099851  accuracy:  92.881%\n",
      "epoch:  0  batch: 4200 [ 42000/60000]  loss: 0.00754223  accuracy:  93.326%\n",
      "epoch:  0  batch: 4800 [ 48000/60000]  loss: 0.49859610  accuracy:  93.735%\n",
      "epoch:  0  batch: 5400 [ 54000/60000]  loss: 0.00686717  accuracy:  94.046%\n",
      "epoch:  0  batch: 6000 [ 60000/60000]  loss: 0.37824875  accuracy:  94.272%\n",
      "epoch:  1  batch:  600 [  6000/60000]  loss: 0.19235960  accuracy:  97.633%\n",
      "epoch:  1  batch: 1200 [ 12000/60000]  loss: 0.01845434  accuracy:  97.500%\n",
      "epoch:  1  batch: 1800 [ 18000/60000]  loss: 0.03795861  accuracy:  97.383%\n",
      "epoch:  1  batch: 2400 [ 24000/60000]  loss: 0.00320759  accuracy:  97.342%\n",
      "epoch:  1  batch: 3000 [ 30000/60000]  loss: 0.00347009  accuracy:  97.337%\n",
      "epoch:  1  batch: 3600 [ 36000/60000]  loss: 0.04189029  accuracy:  97.369%\n",
      "epoch:  1  batch: 4200 [ 42000/60000]  loss: 0.00092626  accuracy:  97.445%\n",
      "epoch:  1  batch: 4800 [ 48000/60000]  loss: 0.03069389  accuracy:  97.502%\n",
      "epoch:  1  batch: 5400 [ 54000/60000]  loss: 0.02438779  accuracy:  97.502%\n",
      "epoch:  1  batch: 6000 [ 60000/60000]  loss: 0.00138426  accuracy:  97.530%\n",
      "epoch:  2  batch:  600 [  6000/60000]  loss: 0.00511649  accuracy:  98.600%\n",
      "epoch:  2  batch: 1200 [ 12000/60000]  loss: 0.00203042  accuracy:  98.533%\n",
      "epoch:  2  batch: 1800 [ 18000/60000]  loss: 0.00904165  accuracy:  98.400%\n",
      "epoch:  2  batch: 2400 [ 24000/60000]  loss: 0.00322542  accuracy:  98.358%\n",
      "epoch:  2  batch: 3000 [ 30000/60000]  loss: 0.00120182  accuracy:  98.327%\n",
      "epoch:  2  batch: 3600 [ 36000/60000]  loss: 0.02898839  accuracy:  98.294%\n",
      "epoch:  2  batch: 4200 [ 42000/60000]  loss: 0.24825886  accuracy:  98.264%\n",
      "epoch:  2  batch: 4800 [ 48000/60000]  loss: 0.00247350  accuracy:  98.292%\n",
      "epoch:  2  batch: 5400 [ 54000/60000]  loss: 0.00006595  accuracy:  98.263%\n",
      "epoch:  2  batch: 6000 [ 60000/60000]  loss: 0.72015536  accuracy:  98.252%\n",
      "epoch:  3  batch:  600 [  6000/60000]  loss: 0.00396420  accuracy:  98.950%\n",
      "epoch:  3  batch: 1200 [ 12000/60000]  loss: 0.00608616  accuracy:  98.983%\n",
      "epoch:  3  batch: 1800 [ 18000/60000]  loss: 0.02563435  accuracy:  98.994%\n",
      "epoch:  3  batch: 2400 [ 24000/60000]  loss: 0.00004516  accuracy:  98.912%\n",
      "epoch:  3  batch: 3000 [ 30000/60000]  loss: 0.01564976  accuracy:  98.850%\n",
      "epoch:  3  batch: 3600 [ 36000/60000]  loss: 0.00026550  accuracy:  98.808%\n",
      "epoch:  3  batch: 4200 [ 42000/60000]  loss: 0.00017571  accuracy:  98.833%\n",
      "epoch:  3  batch: 4800 [ 48000/60000]  loss: 0.00120969  accuracy:  98.775%\n",
      "epoch:  3  batch: 5400 [ 54000/60000]  loss: 0.00000982  accuracy:  98.746%\n",
      "epoch:  3  batch: 6000 [ 60000/60000]  loss: 0.09224288  accuracy:  98.718%\n",
      "epoch:  4  batch:  600 [  6000/60000]  loss: 0.33984691  accuracy:  98.900%\n",
      "epoch:  4  batch: 1200 [ 12000/60000]  loss: 0.00106392  accuracy:  98.942%\n",
      "epoch:  4  batch: 1800 [ 18000/60000]  loss: 0.02256863  accuracy:  98.961%\n",
      "epoch:  4  batch: 2400 [ 24000/60000]  loss: 0.00045266  accuracy:  98.992%\n",
      "epoch:  4  batch: 3000 [ 30000/60000]  loss: 0.06897517  accuracy:  98.960%\n",
      "epoch:  4  batch: 3600 [ 36000/60000]  loss: 0.00008688  accuracy:  98.978%\n",
      "epoch:  4  batch: 4200 [ 42000/60000]  loss: 0.00000801  accuracy:  98.976%\n",
      "epoch:  4  batch: 4800 [ 48000/60000]  loss: 0.01242683  accuracy:  98.956%\n",
      "epoch:  4  batch: 5400 [ 54000/60000]  loss: 0.00002093  accuracy:  98.950%\n",
      "epoch:  4  batch: 6000 [ 60000/60000]  loss: 0.00000343  accuracy:  98.937%\n",
      "\n",
      "Duration: 173 seconds\n"
     ]
    }
   ],
   "source": [
    "import time\n",
    "start_time = time.time()\n",
    "\n",
    "epochs = 5\n",
    "train_losses = []\n",
    "test_losses = []\n",
    "train_correct = []\n",
    "test_correct = []\n",
    "\n",
    "for i in range(epochs):\n",
    "    trn_corr = 0\n",
    "    tst_corr = 0\n",
    "    \n",
    "    # Run the training batches\n",
    "    for b, (X_train, y_train) in enumerate(train_loader):\n",
    "        b+=1\n",
    "        \n",
    "        # Apply the model\n",
    "        y_pred = model(X_train)\n",
    "        loss = criterion(y_pred, y_train)\n",
    " \n",
    "        # Tally the number of correct predictions\n",
    "        predicted = torch.max(y_pred.data, 1)[1]\n",
    "        batch_corr = (predicted == y_train).sum()\n",
    "        trn_corr += batch_corr\n",
    "        \n",
    "        # Update parameters\n",
    "        optimizer.zero_grad()\n",
    "        loss.backward()\n",
    "        optimizer.step()\n",
    "        \n",
    "        # Print interim results\n",
    "        if b%600 == 0:\n",
    "            print(f'epoch: {i:2}  batch: {b:4} [{10*b:6}/60000]  loss: {loss.item():10.8f}  \\\n",
    "accuracy: {trn_corr.item()*100/(10*b):7.3f}%')\n",
    "        \n",
    "    train_losses.append(loss)\n",
    "    train_correct.append(trn_corr)\n",
    "        \n",
    "    # Run the testing batches\n",
    "    with torch.no_grad():\n",
    "        for b, (X_test, y_test) in enumerate(test_loader):\n",
    "\n",
    "            # Apply the model\n",
    "            y_val = model(X_test)\n",
    "\n",
    "            # Tally the number of correct predictions\n",
    "            predicted = torch.max(y_val.data, 1)[1] \n",
    "            tst_corr += (predicted == y_test).sum()\n",
    "            \n",
    "    loss = criterion(y_val, y_test)\n",
    "    test_losses.append(loss)\n",
    "    test_correct.append(tst_corr)\n",
    "        \n",
    "print(f'\\nDuration: {time.time() - start_time:.0f} seconds') # print the time elapsed  "
   ]
  },
  {
   "cell_type": "markdown",
   "metadata": {},
   "source": [
    "## Save the model"
   ]
  },
  {
   "cell_type": "code",
   "execution_count": 10,
   "metadata": {},
   "outputs": [],
   "source": [
    "torch.save(model.state_dict(), 'MNIST-MLP-Model.pt')"
   ]
  },
  {
   "cell_type": "markdown",
   "metadata": {},
   "source": [
    "## Plot the loss and accuracy comparisons"
   ]
  },
  {
   "cell_type": "code",
   "execution_count": 11,
   "metadata": {},
   "outputs": [
    {
     "data": {
      "image/png": "[encoded data removed]",
      "text/plain": [
       "<Figure size 432x288 with 1 Axes>"
      ]
     },
     "metadata": {
      "needs_background": "light"
     },
     "output_type": "display_data"
    }
   ],
   "source": [
    "plt.plot(train_losses, label='training loss')\n",
    "plt.plot(test_losses, label='validation loss')\n",
    "plt.title('Loss at the end of each epoch')\n",
    "plt.legend();"
   ]
  },
  {
   "cell_type": "code",
   "execution_count": 12,
   "metadata": {},
   "outputs": [
    {
     "data": {
      "image/png": "[encoded data removed]",
      "text/plain": [
       "<Figure size 432x288 with 1 Axes>"
      ]
     },
     "metadata": {
      "needs_background": "light"
     },
     "output_type": "display_data"
    }
   ],
   "source": [
    "plt.plot([t/600 for t in train_correct], label='training accuracy')\n",
    "plt.plot([t/100 for t in test_correct], label='validation accuracy')\n",
    "plt.title('Accuracy at the end of each epoch')\n",
    "plt.legend();"
   ]
  },
  {
   "cell_type": "markdown",
   "metadata": {},
   "source": [
    "## Evaluate Test Data"
   ]
  },
  {
   "cell_type": "code",
   "execution_count": 13,
   "metadata": {},
   "outputs": [
    {
     "name": "stdout",
     "output_type": "stream",
     "text": [
      "[tensor(9706), tensor(9750), tensor(9793), tensor(9750), tensor(9792)]\n",
      "\n",
      "Test accuracy: 97.920%\n"
     ]
    }
   ],
   "source": [
    "print(test_correct) # contains the results of all 5 epochs\n",
    "print()\n",
    "print(f'Test accuracy: {test_correct[-1].item()*100/10000:.3f}%') # print the most recent result as a percent"
   ]
  },
  {
   "cell_type": "markdown",
   "metadata": {},
   "source": [
    "## Display the confusion matrix"
   ]
  },
  {
   "cell_type": "code",
   "execution_count": 17,
   "metadata": {},
   "outputs": [],
   "source": [
    "class_names = ['0', '1', '2', '3', '4', '5', '6', '7', ' 8', '9']"
   ]
  },
  {
   "cell_type": "code",
   "execution_count": 18,
   "metadata": {},
   "outputs": [
    {
     "data": {
      "image/png": "[encoded data removed]",
      "text/plain": [
       "<Figure size 648x432 with 2 Axes>"
      ]
     },
     "metadata": {
      "needs_background": "light"
     },
     "output_type": "display_data"
    }
   ],
   "source": [
    "# Create a loader for the entire the test set\n",
    "test_load_all = DataLoader(test_data, batch_size=10000, shuffle=False)\n",
    "\n",
    "with torch.no_grad():\n",
    "    correct = 0\n",
    "    for X_test, y_test in test_load_all:\n",
    "        y_val = model(X_test)\n",
    "        predicted = torch.max(y_val,1)[1]\n",
    "        correct += (predicted == y_test).sum()\n",
    "\n",
    "arr = confusion_matrix(y_test.view(-1), predicted.view(-1))\n",
    "df_cm = pd.DataFrame(arr, class_names, class_names)\n",
    "plt.figure(figsize = (9,6))\n",
    "sn.heatmap(df_cm, annot=True, fmt=\"d\", cmap='BuGn')\n",
    "plt.xlabel(\"prediction\")\n",
    "plt.ylabel(\"label (ground truth)\")\n",
    "plt.show();"
   ]
  },
  {
   "cell_type": "code",
   "execution_count": null,
   "metadata": {},
   "outputs": [],
   "source": []
  }
 ],
 "metadata": {
  "kernelspec": {
   "display_name": "Python 3",
   "language": "python",
   "name": "python3"
  },
  "language_info": {
   "codemirror_mode": {
    "name": "ipython",
    "version": 3
   },
   "file_extension": ".py",
   "mimetype": "text/x-python",
   "name": "python",
   "nbconvert_exporter": "python",
   "pygments_lexer": "ipython3",
   "version": "3.7.3"
  }
 },
 "nbformat": 4,
 "nbformat_minor": 4
}
