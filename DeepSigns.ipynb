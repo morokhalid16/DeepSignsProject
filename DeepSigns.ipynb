{
 "cells": [
  {
   "cell_type": "markdown",
   "metadata": {},
   "source": [
    "## MNIST Code Along With a light CNN"
   ]
  },
  {
   "cell_type": "markdown",
   "metadata": {},
   "source": [
    "### Perform Standard imports "
   ]
  },
  {
   "cell_type": "code",
   "execution_count": 3,
   "metadata": {},
   "outputs": [],
   "source": [
    "import torch\n",
    "import torch.nn as nn\n",
    "import torch.nn.functional as F\n",
    "from torch.utils.data import DataLoader\n",
    "from torchvision import datasets, transforms\n",
    "from torchvision.utils import make_grid\n",
    "\n",
    "import numpy as np\n",
    "import pandas as pd\n",
    "import matplotlib.pyplot as plt\n",
    "\n",
    "from sklearn.metrics import confusion_matrix"
   ]
  },
  {
   "cell_type": "markdown",
   "metadata": {},
   "source": [
    "### Load the MNIST dataset"
   ]
  },
  {
   "cell_type": "code",
   "execution_count": 46,
   "metadata": {},
   "outputs": [],
   "source": [
    "transform = transforms.ToTensor()\n",
    "\n",
    "train_data = datasets.MNIST(root='../Data', train=True, download=True, transform=transform)\n",
    "test_data = datasets.MNIST(root='../Data', train=False, download=True, transform=transform)"
   ]
  },
  {
   "cell_type": "code",
   "execution_count": 47,
   "metadata": {},
   "outputs": [
    {
     "data": {
      "text/plain": [
       "Dataset MNIST\n",
       "    Number of datapoints: 60000\n",
       "    Split: train\n",
       "    Root Location: ../Data\n",
       "    Transforms (if any): ToTensor()\n",
       "    Target Transforms (if any): None"
      ]
     },
     "execution_count": 47,
     "metadata": {},
     "output_type": "execute_result"
    }
   ],
   "source": [
    "train_data"
   ]
  },
  {
   "cell_type": "code",
   "execution_count": 48,
   "metadata": {},
   "outputs": [
    {
     "data": {
      "text/plain": [
       "Dataset MNIST\n",
       "    Number of datapoints: 10000\n",
       "    Split: test\n",
       "    Root Location: ../Data\n",
       "    Transforms (if any): ToTensor()\n",
       "    Target Transforms (if any): None"
      ]
     },
     "execution_count": 48,
     "metadata": {},
     "output_type": "execute_result"
    }
   ],
   "source": [
    "test_data"
   ]
  },
  {
   "cell_type": "markdown",
   "metadata": {},
   "source": [
    "### Create loaders "
   ]
  },
  {
   "cell_type": "code",
   "execution_count": 49,
   "metadata": {},
   "outputs": [],
   "source": [
    "train_loader = DataLoader(train_data, batch_size=10, shuffle=True)\n",
    "test_loader = DataLoader(train_data, batch_size=10, shuffle=False)"
   ]
  },
  {
   "cell_type": "markdown",
   "metadata": {},
   "source": [
    "### Define a convolutional model "
   ]
  },
  {
   "cell_type": "code",
   "execution_count": 206,
   "metadata": {},
   "outputs": [],
   "source": [
    "# define layers \n",
    "conv1 = nn.Conv2d(1, 20, 5, 1)\n",
    "conv2 = nn.Conv2d(20, 50, 5, 1)"
   ]
  },
  {
   "cell_type": "code",
   "execution_count": 207,
   "metadata": {},
   "outputs": [],
   "source": [
    "# Grab the first MNIST record \n",
    "for i, (X_train, y_train) in enumerate(train_data):\n",
    "    break"
   ]
  },
  {
   "cell_type": "code",
   "execution_count": 208,
   "metadata": {},
   "outputs": [
    {
     "name": "stdout",
     "output_type": "stream",
     "text": [
      "torch.Size([1, 1, 28, 28])\n"
     ]
    }
   ],
   "source": [
    "# Create a rank-4 tensor to be passed into the model \n",
    "X = X_train.view(1, 1, 28, 28)\n",
    "print(X.shape)"
   ]
  },
  {
   "cell_type": "code",
   "execution_count": 209,
   "metadata": {},
   "outputs": [
    {
     "name": "stdout",
     "output_type": "stream",
     "text": [
      "torch.Size([1, 20, 24, 24])\n"
     ]
    }
   ],
   "source": [
    "# Perform the first convolution\n",
    "X = conv1(X)\n",
    "print(X.shape)"
   ]
  },
  {
   "cell_type": "code",
   "execution_count": 210,
   "metadata": {},
   "outputs": [
    {
     "name": "stdout",
     "output_type": "stream",
     "text": [
      "torch.Size([1, 20, 12, 12])\n"
     ]
    }
   ],
   "source": [
    "# Perform the 1st Average-Pooling \n",
    "X = F.avg_pool2d(X, 2, 2)\n",
    "print(X.shape)"
   ]
  },
  {
   "cell_type": "code",
   "execution_count": 211,
   "metadata": {},
   "outputs": [
    {
     "name": "stdout",
     "output_type": "stream",
     "text": [
      "torch.Size([1, 50, 8, 8])\n"
     ]
    }
   ],
   "source": [
    "# Perform the second convolution\n",
    "X = conv2(X)\n",
    "print(X.shape)"
   ]
  },
  {
   "cell_type": "code",
   "execution_count": 212,
   "metadata": {},
   "outputs": [
    {
     "name": "stdout",
     "output_type": "stream",
     "text": [
      "torch.Size([1, 50, 4, 4])\n"
     ]
    }
   ],
   "source": [
    "# Perform the 2nd Average-Pooling \n",
    "X = F.avg_pool2d(X, 2, 2)\n",
    "print(X.shape)"
   ]
  },
  {
   "cell_type": "code",
   "execution_count": 216,
   "metadata": {},
   "outputs": [
    {
     "name": "stdout",
     "output_type": "stream",
     "text": [
      "torch.Size([1, 800])\n"
     ]
    }
   ],
   "source": [
    "X = X.flatten(start_dim=1)\n",
    "print(X.shape)"
   ]
  },
  {
   "cell_type": "code",
   "execution_count": 215,
   "metadata": {},
   "outputs": [
    {
     "data": {
      "text/plain": [
       "torch.Size([1, 800])"
      ]
     },
     "execution_count": 215,
     "metadata": {},
     "output_type": "execute_result"
    }
   ],
   "source": [
    "X = X.view(-1, 4*4*50)\n",
    "X.shape"
   ]
  },
  {
   "cell_type": "code",
   "execution_count": null,
   "metadata": {},
   "outputs": [],
   "source": []
  },
  {
   "cell_type": "code",
   "execution_count": null,
   "metadata": {},
   "outputs": [],
   "source": []
  },
  {
   "cell_type": "code",
   "execution_count": 223,
   "metadata": {},
   "outputs": [],
   "source": [
    "class ConvolutionalNetwork(nn.Module):\n",
    "    \n",
    "    def __init__(self):\n",
    "        super().__init__()\n",
    "        self.conv1 = nn.Conv2d(1, 20, 5)\n",
    "        self.conv2 = nn.Conv2d(20, 50, 5)\n",
    "        self.fc1 = nn.Linear(4*4*50, 500)\n",
    "        self.BN = nn.BatchNorm1d(500)\n",
    "        self.fc2 = nn.Linear(500, 10)\n",
    "        \n",
    "    def forward(self, X):\n",
    "        X = F.avg_pool2d(self.conv1(X), 2, 2)\n",
    "        X = F.avg_pool2d(self.conv2(X), 2, 2)\n",
    "        X = X.view(-1, 4*4*50)\n",
    "        X = self.fc1(X)\n",
    "        X = F.relu(self.BN(X))\n",
    "        X = self.fc2(X)\n",
    "        return X"
   ]
  },
  {
   "cell_type": "code",
   "execution_count": 224,
   "metadata": {},
   "outputs": [
    {
     "data": {
      "text/plain": [
       "ConvolutionalNetwork(\n",
       "  (conv1): Conv2d(1, 20, kernel_size=(5, 5), stride=(1, 1))\n",
       "  (conv2): Conv2d(20, 50, kernel_size=(5, 5), stride=(1, 1))\n",
       "  (fc1): Linear(in_features=800, out_features=500, bias=True)\n",
       "  (BN): BatchNorm1d(500, eps=1e-05, momentum=0.1, affine=True, track_running_stats=True)\n",
       "  (fc2): Linear(in_features=500, out_features=10, bias=True)\n",
       ")"
      ]
     },
     "execution_count": 224,
     "metadata": {},
     "output_type": "execute_result"
    }
   ],
   "source": [
    "torch.manual_seed(42)\n",
    "model = ConvolutionalNetwork()\n",
    "model"
   ]
  },
  {
   "cell_type": "code",
   "execution_count": 225,
   "metadata": {},
   "outputs": [],
   "source": [
    "def count_parameters(model):\n",
    "    params = [p.numel() for p in model.parameters() if p.requires_grad]\n",
    "    for item in params:\n",
    "        print(f'{item:>6}')\n",
    "    print(f'______\\n{sum(params):>6}')"
   ]
  },
  {
   "cell_type": "code",
   "execution_count": 226,
   "metadata": {},
   "outputs": [
    {
     "name": "stdout",
     "output_type": "stream",
     "text": [
      "   500\n",
      "    20\n",
      " 25000\n",
      "    50\n",
      "400000\n",
      "   500\n",
      "   500\n",
      "   500\n",
      "  5000\n",
      "    10\n",
      "______\n",
      "432080\n"
     ]
    }
   ],
   "source": [
    "count_parameters(model)"
   ]
  },
  {
   "cell_type": "markdown",
   "metadata": {},
   "source": [
    "### Define loss function & Optimize "
   ]
  },
  {
   "cell_type": "code",
   "execution_count": 227,
   "metadata": {},
   "outputs": [],
   "source": [
    "criterion = nn.CrossEntropyLoss()\n",
    "optimizer = torch.optim.Adam(model.parameters(), lr=0.001)"
   ]
  },
  {
   "cell_type": "markdown",
   "metadata": {},
   "source": [
    "### Train the model "
   ]
  },
  {
   "cell_type": "code",
   "execution_count": 228,
   "metadata": {},
   "outputs": [
    {
     "name": "stdout",
     "output_type": "stream",
     "text": [
      "epoch:  0  batch:  200 [  2000/60000]  loss: 0.75890863  accuracy:  76.800%\n",
      "epoch:  0  batch:  400 [  4000/60000]  loss: 0.14805499  accuracy:  79.450%\n",
      "epoch:  0  batch:  600 [  6000/60000]  loss: 0.67038077  accuracy:  81.917%\n",
      "epoch:  0  batch:  800 [  8000/60000]  loss: 0.42437372  accuracy:  82.888%\n",
      "epoch:  0  batch: 1000 [ 10000/60000]  loss: 0.14490001  accuracy:  83.570%\n",
      "epoch:  0  batch: 1200 [ 12000/60000]  loss: 0.58418375  accuracy:  84.417%\n",
      "epoch:  0  batch: 1400 [ 14000/60000]  loss: 0.53928864  accuracy:  84.921%\n",
      "epoch:  0  batch: 1600 [ 16000/60000]  loss: 0.21566351  accuracy:  85.581%\n",
      "epoch:  0  batch: 1800 [ 18000/60000]  loss: 0.26547885  accuracy:  86.028%\n",
      "epoch:  0  batch: 2000 [ 20000/60000]  loss: 1.09380829  accuracy:  86.505%\n",
      "epoch:  0  batch: 2200 [ 22000/60000]  loss: 0.21035838  accuracy:  86.991%\n",
      "epoch:  0  batch: 2400 [ 24000/60000]  loss: 0.07830124  accuracy:  87.292%\n",
      "epoch:  0  batch: 2600 [ 26000/60000]  loss: 0.21694231  accuracy:  87.627%\n",
      "epoch:  0  batch: 2800 [ 28000/60000]  loss: 0.05338421  accuracy:  87.807%\n",
      "epoch:  0  batch: 3000 [ 30000/60000]  loss: 0.08357365  accuracy:  88.047%\n",
      "epoch:  0  batch: 3200 [ 32000/60000]  loss: 0.34363571  accuracy:  88.319%\n",
      "epoch:  0  batch: 3400 [ 34000/60000]  loss: 0.58579004  accuracy:  88.544%\n",
      "epoch:  0  batch: 3600 [ 36000/60000]  loss: 0.93036842  accuracy:  88.747%\n",
      "epoch:  0  batch: 3800 [ 38000/60000]  loss: 0.34831911  accuracy:  88.921%\n",
      "epoch:  0  batch: 4000 [ 40000/60000]  loss: 0.03702778  accuracy:  89.093%\n",
      "epoch:  0  batch: 4200 [ 42000/60000]  loss: 0.33271724  accuracy:  89.326%\n",
      "epoch:  0  batch: 4400 [ 44000/60000]  loss: 0.19657338  accuracy:  89.523%\n",
      "epoch:  0  batch: 4600 [ 46000/60000]  loss: 0.23044655  accuracy:  89.600%\n",
      "epoch:  0  batch: 4800 [ 48000/60000]  loss: 0.41424888  accuracy:  89.710%\n",
      "epoch:  0  batch: 5000 [ 50000/60000]  loss: 0.15895501  accuracy:  89.870%\n",
      "epoch:  0  batch: 5200 [ 52000/60000]  loss: 0.14988714  accuracy:  89.962%\n",
      "epoch:  0  batch: 5400 [ 54000/60000]  loss: 0.17906751  accuracy:  90.074%\n",
      "epoch:  0  batch: 5600 [ 56000/60000]  loss: 0.10621120  accuracy:  90.184%\n",
      "epoch:  0  batch: 5800 [ 58000/60000]  loss: 0.05090517  accuracy:  90.266%\n",
      "epoch:  0  batch: 6000 [ 60000/60000]  loss: 0.16335437  accuracy:  90.405%\n",
      "epoch:  1  batch:  200 [  2000/60000]  loss: 0.41246396  accuracy:  94.150%\n",
      "epoch:  1  batch:  400 [  4000/60000]  loss: 0.12270169  accuracy:  93.200%\n",
      "epoch:  1  batch:  600 [  6000/60000]  loss: 0.20965652  accuracy:  93.517%\n",
      "epoch:  1  batch:  800 [  8000/60000]  loss: 0.01277671  accuracy:  93.675%\n",
      "epoch:  1  batch: 1000 [ 10000/60000]  loss: 0.00734599  accuracy:  93.780%\n",
      "epoch:  1  batch: 1200 [ 12000/60000]  loss: 0.01693064  accuracy:  93.717%\n",
      "epoch:  1  batch: 1400 [ 14000/60000]  loss: 0.33022952  accuracy:  93.779%\n",
      "epoch:  1  batch: 1600 [ 16000/60000]  loss: 0.22663596  accuracy:  93.850%\n",
      "epoch:  1  batch: 1800 [ 18000/60000]  loss: 0.01733327  accuracy:  93.867%\n",
      "epoch:  1  batch: 2000 [ 20000/60000]  loss: 0.05845153  accuracy:  93.890%\n",
      "epoch:  1  batch: 2200 [ 22000/60000]  loss: 0.04657310  accuracy:  93.977%\n",
      "epoch:  1  batch: 2400 [ 24000/60000]  loss: 0.01517081  accuracy:  94.000%\n",
      "epoch:  1  batch: 2600 [ 26000/60000]  loss: 0.06927694  accuracy:  94.073%\n",
      "epoch:  1  batch: 2800 [ 28000/60000]  loss: 0.01973538  accuracy:  94.114%\n",
      "epoch:  1  batch: 3000 [ 30000/60000]  loss: 0.24331574  accuracy:  94.093%\n",
      "epoch:  1  batch: 3200 [ 32000/60000]  loss: 0.64097607  accuracy:  94.069%\n",
      "epoch:  1  batch: 3400 [ 34000/60000]  loss: 0.00290393  accuracy:  94.076%\n",
      "epoch:  1  batch: 3600 [ 36000/60000]  loss: 0.18856351  accuracy:  94.125%\n",
      "epoch:  1  batch: 3800 [ 38000/60000]  loss: 0.25597417  accuracy:  94.145%\n",
      "epoch:  1  batch: 4000 [ 40000/60000]  loss: 0.23120120  accuracy:  94.130%\n",
      "epoch:  1  batch: 4200 [ 42000/60000]  loss: 0.14072523  accuracy:  94.145%\n",
      "epoch:  1  batch: 4400 [ 44000/60000]  loss: 0.04512082  accuracy:  94.141%\n",
      "epoch:  1  batch: 4600 [ 46000/60000]  loss: 0.29895282  accuracy:  94.172%\n",
      "epoch:  1  batch: 4800 [ 48000/60000]  loss: 0.21215001  accuracy:  94.225%\n",
      "epoch:  1  batch: 5000 [ 50000/60000]  loss: 0.11292149  accuracy:  94.234%\n",
      "epoch:  1  batch: 5200 [ 52000/60000]  loss: 0.04619656  accuracy:  94.221%\n",
      "epoch:  1  batch: 5400 [ 54000/60000]  loss: 0.05768752  accuracy:  94.226%\n",
      "epoch:  1  batch: 5600 [ 56000/60000]  loss: 0.01218241  accuracy:  94.221%\n",
      "epoch:  1  batch: 5800 [ 58000/60000]  loss: 0.01576432  accuracy:  94.252%\n",
      "epoch:  1  batch: 6000 [ 60000/60000]  loss: 0.03528918  accuracy:  94.273%\n",
      "epoch:  2  batch:  200 [  2000/60000]  loss: 0.03931995  accuracy:  95.150%\n",
      "epoch:  2  batch:  400 [  4000/60000]  loss: 0.10879332  accuracy:  94.900%\n",
      "epoch:  2  batch:  600 [  6000/60000]  loss: 0.02671789  accuracy:  94.967%\n",
      "epoch:  2  batch:  800 [  8000/60000]  loss: 0.45380253  accuracy:  94.950%\n",
      "epoch:  2  batch: 1000 [ 10000/60000]  loss: 0.03064920  accuracy:  94.910%\n",
      "epoch:  2  batch: 1200 [ 12000/60000]  loss: 0.36292654  accuracy:  94.783%\n",
      "epoch:  2  batch: 1400 [ 14000/60000]  loss: 0.08820776  accuracy:  94.700%\n",
      "epoch:  2  batch: 1600 [ 16000/60000]  loss: 0.03234768  accuracy:  94.688%\n",
      "epoch:  2  batch: 1800 [ 18000/60000]  loss: 0.04289328  accuracy:  94.756%\n",
      "epoch:  2  batch: 2000 [ 20000/60000]  loss: 0.02338435  accuracy:  94.765%\n",
      "epoch:  2  batch: 2200 [ 22000/60000]  loss: 0.13087852  accuracy:  94.809%\n",
      "epoch:  2  batch: 2400 [ 24000/60000]  loss: 0.00232203  accuracy:  94.838%\n",
      "epoch:  2  batch: 2600 [ 26000/60000]  loss: 0.07010724  accuracy:  94.835%\n",
      "epoch:  2  batch: 2800 [ 28000/60000]  loss: 0.69101506  accuracy:  94.793%\n",
      "epoch:  2  batch: 3000 [ 30000/60000]  loss: 0.14314459  accuracy:  94.850%\n",
      "epoch:  2  batch: 3200 [ 32000/60000]  loss: 0.08872922  accuracy:  94.875%\n",
      "epoch:  2  batch: 3400 [ 34000/60000]  loss: 0.26584864  accuracy:  94.909%\n",
      "epoch:  2  batch: 3600 [ 36000/60000]  loss: 0.34299073  accuracy:  94.931%\n",
      "epoch:  2  batch: 3800 [ 38000/60000]  loss: 0.52526760  accuracy:  94.961%\n",
      "epoch:  2  batch: 4000 [ 40000/60000]  loss: 0.23599903  accuracy:  94.953%\n",
      "epoch:  2  batch: 4200 [ 42000/60000]  loss: 0.00679048  accuracy:  94.979%\n",
      "epoch:  2  batch: 4400 [ 44000/60000]  loss: 0.05868648  accuracy:  95.009%\n",
      "epoch:  2  batch: 4600 [ 46000/60000]  loss: 0.81953603  accuracy:  95.013%\n",
      "epoch:  2  batch: 4800 [ 48000/60000]  loss: 0.08837093  accuracy:  95.015%\n",
      "epoch:  2  batch: 5000 [ 50000/60000]  loss: 0.06808878  accuracy:  95.020%\n",
      "epoch:  2  batch: 5200 [ 52000/60000]  loss: 0.31892458  accuracy:  95.044%\n",
      "epoch:  2  batch: 5400 [ 54000/60000]  loss: 0.18244913  accuracy:  95.065%\n",
      "epoch:  2  batch: 5600 [ 56000/60000]  loss: 0.06297803  accuracy:  95.080%\n",
      "epoch:  2  batch: 5800 [ 58000/60000]  loss: 0.05095292  accuracy:  95.117%\n",
      "epoch:  2  batch: 6000 [ 60000/60000]  loss: 0.26228538  accuracy:  95.160%\n",
      "epoch:  3  batch:  200 [  2000/60000]  loss: 0.01355907  accuracy:  95.050%\n",
      "epoch:  3  batch:  400 [  4000/60000]  loss: 0.03674031  accuracy:  95.750%\n",
      "epoch:  3  batch:  600 [  6000/60000]  loss: 0.48726091  accuracy:  95.867%\n",
      "epoch:  3  batch:  800 [  8000/60000]  loss: 0.26953644  accuracy:  95.750%\n",
      "epoch:  3  batch: 1000 [ 10000/60000]  loss: 0.06277776  accuracy:  95.760%\n",
      "epoch:  3  batch: 1200 [ 12000/60000]  loss: 0.06742082  accuracy:  95.767%\n",
      "epoch:  3  batch: 1400 [ 14000/60000]  loss: 0.17704222  accuracy:  95.757%\n",
      "epoch:  3  batch: 1600 [ 16000/60000]  loss: 0.46689600  accuracy:  95.744%\n",
      "epoch:  3  batch: 1800 [ 18000/60000]  loss: 0.01071890  accuracy:  95.694%\n",
      "epoch:  3  batch: 2000 [ 20000/60000]  loss: 0.02984180  accuracy:  95.665%\n",
      "epoch:  3  batch: 2200 [ 22000/60000]  loss: 0.25121349  accuracy:  95.668%\n",
      "epoch:  3  batch: 2400 [ 24000/60000]  loss: 0.01145461  accuracy:  95.671%\n",
      "epoch:  3  batch: 2600 [ 26000/60000]  loss: 0.10468407  accuracy:  95.646%\n",
      "epoch:  3  batch: 2800 [ 28000/60000]  loss: 0.00142450  accuracy:  95.682%\n",
      "epoch:  3  batch: 3000 [ 30000/60000]  loss: 0.02734481  accuracy:  95.680%\n",
      "epoch:  3  batch: 3200 [ 32000/60000]  loss: 0.18218522  accuracy:  95.662%\n",
      "epoch:  3  batch: 3400 [ 34000/60000]  loss: 0.00415201  accuracy:  95.706%\n",
      "epoch:  3  batch: 3600 [ 36000/60000]  loss: 0.31609732  accuracy:  95.658%\n"
     ]
    },
    {
     "name": "stdout",
     "output_type": "stream",
     "text": [
      "epoch:  3  batch: 3800 [ 38000/60000]  loss: 0.04221886  accuracy:  95.637%\n",
      "epoch:  3  batch: 4000 [ 40000/60000]  loss: 0.06854652  accuracy:  95.665%\n",
      "epoch:  3  batch: 4200 [ 42000/60000]  loss: 0.02833613  accuracy:  95.676%\n",
      "epoch:  3  batch: 4400 [ 44000/60000]  loss: 0.05323910  accuracy:  95.664%\n",
      "epoch:  3  batch: 4600 [ 46000/60000]  loss: 0.10421278  accuracy:  95.696%\n",
      "epoch:  3  batch: 4800 [ 48000/60000]  loss: 0.03539827  accuracy:  95.698%\n",
      "epoch:  3  batch: 5000 [ 50000/60000]  loss: 0.18015727  accuracy:  95.684%\n",
      "epoch:  3  batch: 5200 [ 52000/60000]  loss: 0.22755030  accuracy:  95.685%\n",
      "epoch:  3  batch: 5400 [ 54000/60000]  loss: 0.72414756  accuracy:  95.694%\n",
      "epoch:  3  batch: 5600 [ 56000/60000]  loss: 0.00135767  accuracy:  95.695%\n",
      "epoch:  3  batch: 5800 [ 58000/60000]  loss: 0.08198559  accuracy:  95.671%\n",
      "epoch:  3  batch: 6000 [ 60000/60000]  loss: 0.00417643  accuracy:  95.677%\n",
      "epoch:  4  batch:  200 [  2000/60000]  loss: 0.22252703  accuracy:  96.300%\n",
      "epoch:  4  batch:  400 [  4000/60000]  loss: 0.18237469  accuracy:  96.125%\n",
      "epoch:  4  batch:  600 [  6000/60000]  loss: 0.11708444  accuracy:  96.117%\n",
      "epoch:  4  batch:  800 [  8000/60000]  loss: 0.01081651  accuracy:  96.287%\n",
      "epoch:  4  batch: 1000 [ 10000/60000]  loss: 0.00618766  accuracy:  96.200%\n",
      "epoch:  4  batch: 1200 [ 12000/60000]  loss: 0.02515426  accuracy:  96.150%\n",
      "epoch:  4  batch: 1400 [ 14000/60000]  loss: 0.00962937  accuracy:  96.236%\n",
      "epoch:  4  batch: 1600 [ 16000/60000]  loss: 0.02733065  accuracy:  96.281%\n",
      "epoch:  4  batch: 1800 [ 18000/60000]  loss: 0.31557423  accuracy:  96.128%\n",
      "epoch:  4  batch: 2000 [ 20000/60000]  loss: 0.23128161  accuracy:  96.100%\n",
      "epoch:  4  batch: 2200 [ 22000/60000]  loss: 0.01738967  accuracy:  96.118%\n",
      "epoch:  4  batch: 2400 [ 24000/60000]  loss: 0.02307742  accuracy:  96.142%\n",
      "epoch:  4  batch: 2600 [ 26000/60000]  loss: 0.00403546  accuracy:  96.104%\n",
      "epoch:  4  batch: 2800 [ 28000/60000]  loss: 0.04127734  accuracy:  96.136%\n",
      "epoch:  4  batch: 3000 [ 30000/60000]  loss: 0.03498982  accuracy:  96.093%\n",
      "epoch:  4  batch: 3200 [ 32000/60000]  loss: 0.36722380  accuracy:  96.075%\n",
      "epoch:  4  batch: 3400 [ 34000/60000]  loss: 0.03086833  accuracy:  96.144%\n",
      "epoch:  4  batch: 3600 [ 36000/60000]  loss: 0.13539767  accuracy:  96.139%\n",
      "epoch:  4  batch: 3800 [ 38000/60000]  loss: 0.00229155  accuracy:  96.158%\n",
      "epoch:  4  batch: 4000 [ 40000/60000]  loss: 0.19411342  accuracy:  96.203%\n",
      "epoch:  4  batch: 4200 [ 42000/60000]  loss: 0.24225175  accuracy:  96.224%\n",
      "epoch:  4  batch: 4400 [ 44000/60000]  loss: 0.01540070  accuracy:  96.205%\n",
      "epoch:  4  batch: 4600 [ 46000/60000]  loss: 0.77054954  accuracy:  96.172%\n",
      "epoch:  4  batch: 4800 [ 48000/60000]  loss: 0.05563411  accuracy:  96.167%\n",
      "epoch:  4  batch: 5000 [ 50000/60000]  loss: 0.01615590  accuracy:  96.182%\n",
      "epoch:  4  batch: 5200 [ 52000/60000]  loss: 0.04767729  accuracy:  96.152%\n",
      "epoch:  4  batch: 5400 [ 54000/60000]  loss: 0.21657296  accuracy:  96.144%\n",
      "epoch:  4  batch: 5600 [ 56000/60000]  loss: 0.00612722  accuracy:  96.134%\n",
      "epoch:  4  batch: 5800 [ 58000/60000]  loss: 0.11637960  accuracy:  96.126%\n",
      "epoch:  4  batch: 6000 [ 60000/60000]  loss: 0.02054757  accuracy:  96.148%\n",
      "\n",
      "Duration: 331 seconds\n"
     ]
    }
   ],
   "source": [
    "import time \n",
    "start_time = time.time()\n",
    "\n",
    "epochs = 5\n",
    "train_losses = []\n",
    "test_losses = []\n",
    "train_correct = []\n",
    "test_correct = []\n",
    "\n",
    "for i in range(epochs):\n",
    "    trn_corr = 0\n",
    "    tst_corr = 0\n",
    "    \n",
    "    # Run the training batches \n",
    "    for b, (X_train, y_train) in enumerate(train_loader):\n",
    "        b+=1\n",
    "        \n",
    "        # Apply the model \n",
    "        y_pred = model(X_train)\n",
    "        loss = criterion(y_pred, y_train)\n",
    "        \n",
    "        # Tally the number of correct predictions\n",
    "        predicted = torch.max(y_pred.data, 1)[1]\n",
    "        batch_corr = (predicted == y_train).sum()\n",
    "        trn_corr += batch_corr\n",
    "        \n",
    "        # Update parameters \n",
    "        optimizer.zero_grad()\n",
    "        loss.backward()\n",
    "        optimizer.step()\n",
    "        \n",
    "        # Print interim results \n",
    "        if b%600 == 0:\n",
    "            print(f'epoch: {i:2}  batch: {b:4} [{10*b:6}/60000]  loss: {loss.item():10.8f}  \\\n",
    "accuracy: {trn_corr.item()*100/(10*b):7.3f}%')\n",
    "            \n",
    "    train_losses.append(loss)\n",
    "    train_correct.append(trn_corr)\n",
    "    \n",
    "    # Run the testing batches \n",
    "    with torch.no_grad():\n",
    "        for b, (X_test, y_test) in enumerate(test_loader):\n",
    "            \n",
    "            # Apply the model \n",
    "            y_val = model(X_test)\n",
    "            \n",
    "            # Tally the number of correct predictions \n",
    "            predicted = torch.max(y_val.data, 1)[1]\n",
    "            tst_corr += (predicted == y_test).sum()\n",
    "    \n",
    "    loss = criterion(y_val, y_test)\n",
    "    test_losses.append(loss)\n",
    "    test_correct.append(tst_corr)\n",
    "    \n",
    "print(f'\\nDuration: {(time.time() - start_time:.0f)/60} min') # print the time elapsed            "
   ]
  },
  {
   "cell_type": "markdown",
   "metadata": {},
   "source": [
    "### Plot the Loss and Accuracy comparisons "
   ]
  },
  {
   "cell_type": "code",
   "execution_count": 229,
   "metadata": {},
   "outputs": [
    {
     "data": {
      "image/png": "[encoded data removed]",
      "text/plain": [
       "<Figure size 432x288 with 1 Axes>"
      ]
     },
     "metadata": {
      "needs_background": "light"
     },
     "output_type": "display_data"
    }
   ],
   "source": [
    "plt.plot(train_losses, label='training loss')\n",
    "plt.plot(test_losses, label='validation loss')\n",
    "plt.title('Loss at the end of each epoch')\n",
    "plt.legend();"
   ]
  },
  {
   "cell_type": "code",
   "execution_count": 5,
   "metadata": {},
   "outputs": [],
   "source": [
    "#plt.plot([t/200 for t in train_correct], label='training accuracy')\n",
    "#plt.plot([t/100 for t in test_correct], label='validation accuracy')\n",
    "#plt.title('Accuracy at the end of each epoch')\n",
    "#plt.legend();"
   ]
  },
  {
   "cell_type": "markdown",
   "metadata": {},
   "source": [
    "### Evaluate Test Data"
   ]
  },
  {
   "cell_type": "code",
   "execution_count": 231,
   "metadata": {},
   "outputs": [],
   "source": [
    "# Extract the data all at once, not in batches\n",
    "test_load_all = DataLoader(test_data, batch_size=10000, shuffle=False)"
   ]
  },
  {
   "cell_type": "code",
   "execution_count": 232,
   "metadata": {},
   "outputs": [
    {
     "name": "stdout",
     "output_type": "stream",
     "text": [
      "Test accuracy: 9814/10000 =  98.140%\n"
     ]
    }
   ],
   "source": [
    "with torch.no_grad():\n",
    "    correct = 0\n",
    "    for X_test, y_test in test_load_all:\n",
    "        y_val = model(X_test)  # we don't flatten the data this time\n",
    "        predicted = torch.max(y_val,1)[1]\n",
    "        correct += (predicted == y_test).sum()\n",
    "print(f'Test accuracy: {correct.item()}/{len(test_data)} = {correct.item()*100/(len(test_data)):7.3f}%')"
   ]
  },
  {
   "cell_type": "markdown",
   "metadata": {},
   "source": [
    "### Display the confusion matrix"
   ]
  },
  {
   "cell_type": "code",
   "execution_count": 233,
   "metadata": {},
   "outputs": [
    {
     "name": "stdout",
     "output_type": "stream",
     "text": [
      "[[   0    1    2    3    4    5    6    7    8    9]]\n",
      "\n",
      "[[ 970    0    2    0    1    1    3    2    4    3]\n",
      " [   1 1129    3    0    0    1    2    6    1    2]\n",
      " [   1    1 1009    4    5    0    1   12    1    0]\n",
      " [   0    1    6  986    0    4    0    1    2    3]\n",
      " [   0    0    1    0  957    0    3    0    0    9]\n",
      " [   2    0    1   12    0  876    2    1    4    3]\n",
      " [   2    1    1    0    2    7  947    0    4    0]\n",
      " [   1    1    3    3    4    1    0 1001    1    6]\n",
      " [   1    2    6    3    0    2    0    3  956    0]\n",
      " [   2    0    0    2   13    0    0    2    1  983]]\n"
     ]
    }
   ],
   "source": [
    "# print a row of values for reference\n",
    "np.set_printoptions(formatter=dict(int=lambda x: f'{x:4}'))\n",
    "print(np.arange(10).reshape(1,10))\n",
    "print()\n",
    "\n",
    "# print the confusion matrix\n",
    "print(confusion_matrix(predicted.view(-1), y_test.view(-1)))"
   ]
  },
  {
   "cell_type": "code",
   "execution_count": null,
   "metadata": {},
   "outputs": [],
   "source": []
  }
 ],
 "metadata": {
  "kernelspec": {
   "display_name": "Python 3",
   "language": "python",
   "name": "python3"
  },
  "language_info": {
   "codemirror_mode": {
    "name": "ipython",
    "version": 3
   },
   "file_extension": ".py",
   "mimetype": "text/x-python",
   "name": "python",
   "nbconvert_exporter": "python",
   "pygments_lexer": "ipython3",
   "version": "3.7.3"
  }
 },
 "nbformat": 4,
 "nbformat_minor": 4
}
